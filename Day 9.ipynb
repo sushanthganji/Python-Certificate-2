{
 "cells": [
  {
   "cell_type": "code",
   "execution_count": null,
   "metadata": {},
   "outputs": [],
   "source": []
  },
  {
   "cell_type": "code",
   "execution_count": 1,
   "metadata": {},
   "outputs": [
    {
     "name": "stdout",
     "output_type": "stream",
     "text": [
      "SUSHANTH\n",
      "sushanth\n"
     ]
    }
   ],
   "source": [
    "str=\"SUShanTh\"\n",
    "print(str.upper())\n",
    "print(str.lower())"
   ]
  },
  {
   "cell_type": "code",
   "execution_count": 3,
   "metadata": {},
   "outputs": [
    {
     "name": "stdout",
     "output_type": "stream",
     "text": [
      "False\n",
      "True\n"
     ]
    }
   ],
   "source": [
    "s=\"Application\"\n",
    "s1='A'\n",
    "print(s.isupper())\n",
    "print(s1.isupper())"
   ]
  },
  {
   "cell_type": "code",
   "execution_count": 5,
   "metadata": {},
   "outputs": [
    {
     "name": "stdout",
     "output_type": "stream",
     "text": [
      "False\n",
      "False\n"
     ]
    }
   ],
   "source": [
    "s=\"Application\"\n",
    "s1='A'\n",
    "print(s.islower())\n",
    "print(s1.islower())\n",
    "\n"
   ]
  },
  {
   "cell_type": "code",
   "execution_count": 6,
   "metadata": {},
   "outputs": [
    {
     "name": "stdout",
     "output_type": "stream",
     "text": [
      "True\n",
      "False\n"
     ]
    }
   ],
   "source": [
    "s=\"7777\"\n",
    "s1=\"SuGa7\"\n",
    "print(s.isnumeric())\n",
    "print(s1.isnumeric())\n"
   ]
  },
  {
   "cell_type": "code",
   "execution_count": 45,
   "metadata": {},
   "outputs": [
    {
     "name": "stdout",
     "output_type": "stream",
     "text": [
      "True\n",
      "False\n",
      "True\n",
      "True\n"
     ]
    }
   ],
   "source": [
    "s=\"Apllication\"\n",
    "s1=\"App777\"\n",
    "print(s.isalpha())\n",
    "print(s1.isalpha())\n",
    "print(s.istitle())\n",
    "print(s1.istitle())"
   ]
  },
  {
   "cell_type": "code",
   "execution_count": 48,
   "metadata": {
    "scrolled": true
   },
   "outputs": [
    {
     "name": "stdout",
     "output_type": "stream",
     "text": [
      "S_u_s_h_a_n_t_h\n"
     ]
    }
   ],
   "source": [
    "str=\"Sushanth\"\n",
    "print(\"_\".join(str)) \n",
    "\n"
   ]
  },
  {
   "cell_type": "code",
   "execution_count": 25,
   "metadata": {},
   "outputs": [
    {
     "name": "stdout",
     "output_type": "stream",
     "text": [
      "False\n",
      "True\n"
     ]
    }
   ],
   "source": [
    "s=\"Python\"\n",
    "s1=\" \"\n",
    "print(s.isspace())\n",
    "print(s1.isspace())\n"
   ]
  },
  {
   "cell_type": "code",
   "execution_count": 34,
   "metadata": {},
   "outputs": [
    {
     "name": "stdout",
     "output_type": "stream",
     "text": [
      "Suga7,MaheshBabu,Dhoni\n"
     ]
    }
   ],
   "source": [
    "print(\",\".join([\"Suga7\",\"MaheshBabu\",\"Dhoni\"]))"
   ]
  },
  {
   "cell_type": "code",
   "execution_count": 35,
   "metadata": {},
   "outputs": [
    {
     "name": "stdout",
     "output_type": "stream",
     "text": [
      "['Python', 'Programming', 'Is', 'Easy']\n"
     ]
    }
   ],
   "source": [
    "s=\"Python Programming Is Easy\"\n",
    "lst=s.split()\n",
    "print(lst)"
   ]
  },
  {
   "cell_type": "code",
   "execution_count": 36,
   "metadata": {},
   "outputs": [
    {
     "name": "stdout",
     "output_type": "stream",
     "text": [
      "['Python', 'Programming', 'Is', 'Easy']\n",
      "['Python Progr', 'mming Is E', 'sy']\n",
      "['Python Programming Is Easy']\n"
     ]
    }
   ],
   "source": [
    "s=\"Python Programming Is Easy\"\n",
    "print(s.split())\n",
    "print(s.split(\"a\"))\n",
    "print(s.split(\",\"))"
   ]
  },
  {
   "cell_type": "code",
   "execution_count": 44,
   "metadata": {},
   "outputs": [
    {
     "name": "stdout",
     "output_type": "stream",
     "text": [
      "C++ Programming\n"
     ]
    }
   ],
   "source": [
    "s=\"Python Programming\"\n",
    "print(s.replace(\"Python\",\"C++\",1))"
   ]
  },
  {
   "cell_type": "code",
   "execution_count": 60,
   "metadata": {},
   "outputs": [
    {
     "name": "stdout",
     "output_type": "stream",
     "text": [
      "Sushanth\n"
     ]
    }
   ],
   "source": [
    "str=\"S_u_s_h_a_n_t_h\"\n",
    "print(str.replace(\"_\",\"\"))"
   ]
  },
  {
   "cell_type": "code",
   "execution_count": 63,
   "metadata": {},
   "outputs": [
    {
     "name": "stdout",
     "output_type": "stream",
     "text": [
      "t1[0]= python\n",
      "t1[2]= 18\n",
      "t1[-1]= AI\n",
      "t1[1:4]= ('programming', 18, 9)\n",
      "t1[2:-2]= (18, 9)\n"
     ]
    }
   ],
   "source": [
    "t1=(\"python\",\"programming\",18,9,\"Machine Learning\", \"AI\")\n",
    "print(\"t1[0]=\",t1[0])\n",
    "print(\"t1[2]=\",t1[2])\n",
    "print(\"t1[-1]=\",t1[-1])\n",
    "print(\"t1[1:4]=\",t1[1:4])\n",
    "print(\"t1[2:-2]=\",t1[2:-2])"
   ]
  },
  {
   "cell_type": "code",
   "execution_count": 74,
   "metadata": {},
   "outputs": [
    {
     "name": "stdout",
     "output_type": "stream",
     "text": [
      "Game\n"
     ]
    }
   ],
   "source": [
    "t1=(\"Pyhton\",\"Game\",\"Programming\");\n",
    "print(min(t1))"
   ]
  },
  {
   "cell_type": "code",
   "execution_count": 75,
   "metadata": {},
   "outputs": [
    {
     "name": "stdout",
     "output_type": "stream",
     "text": [
      "1\n",
      "679\n",
      "6\n"
     ]
    }
   ],
   "source": [
    "t1=(1,2,3,4,5,679)\n",
    "print(min(t1))\n",
    "print(max(t1))\n",
    "print(len(t1))"
   ]
  },
  {
   "cell_type": "code",
   "execution_count": 80,
   "metadata": {},
   "outputs": [
    {
     "name": "stdout",
     "output_type": "stream",
     "text": [
      "('python', 'programming', 1989, 20109, 'machine learning', 'AI')\n"
     ]
    }
   ],
   "source": [
    "list1=[\"python\",\"programming\",1989,20109,\"machine learning\",\"AI\"]\n",
    "t1=tuple(list1)\n",
    "print(t1)"
   ]
  },
  {
   "cell_type": "code",
   "execution_count": 81,
   "metadata": {},
   "outputs": [
    {
     "name": "stdout",
     "output_type": "stream",
     "text": [
      "user1[name]= Python\n",
      "user1[age]= 29\n"
     ]
    }
   ],
   "source": [
    "user1={\"name\":\"Python\",\"age\":29,\"emailid\":\"gmail.com\",\"mobileno\":8888888888}\n",
    "print(\"user1[name]=\",user1[\"name\"])\n",
    "print(\"user1[age]=\",user1[\"age\"])"
   ]
  },
  {
   "cell_type": "code",
   "execution_count": 82,
   "metadata": {},
   "outputs": [
    {
     "name": "stdout",
     "output_type": "stream",
     "text": [
      "user1[emailid]= gmail.com\n",
      "user1[emailid]= 123gmail.com\n"
     ]
    }
   ],
   "source": [
    "user1={\"name\":\"Python\",\"age\":29,\"emailid\":\"gmail.com\",\"mobileno\":8888888888}\n",
    "print(\"user1[emailid]=\",user1[\"emailid\"])\n",
    "user1[\"emailid\"]=\"123gmail.com\"\n",
    "print(\"user1[emailid]=\",user1[\"emailid\"])"
   ]
  },
  {
   "cell_type": "code",
   "execution_count": 83,
   "metadata": {},
   "outputs": [
    {
     "name": "stdout",
     "output_type": "stream",
     "text": [
      "user1[emailid]= gmail.com\n",
      "{'name': 'Python', 'age': 29, 'mobileno': 8888888888}\n"
     ]
    }
   ],
   "source": [
    "user1={\"name\":\"Python\",\"age\":29,\"emailid\":\"gmail.com\",\"mobileno\":8888888888}\n",
    "print(\"user1[emailid]=\",user1[\"emailid\"])\n",
    "del (user1[\"emailid\"])\n",
    "print(user1)"
   ]
  },
  {
   "cell_type": "code",
   "execution_count": 84,
   "metadata": {},
   "outputs": [
    {
     "name": "stdout",
     "output_type": "stream",
     "text": [
      "{'name': 'Python', 'age': 29, 'emailid': 'gmail.com', 'mobileno': 8888888888}\n",
      "{'name': 'Python', 'age': 29, 'emailid': 'gmail.com', 'mobileno': 8888888888, 'Adress': 'Hyderabad'}\n"
     ]
    }
   ],
   "source": [
    "user1={\"name\":\"Python\",\"age\":29,\"emailid\":\"gmail.com\",\"mobileno\":8888888888}\n",
    "print(user1)\n",
    "user1[\"Adress\"]=\"Hyderabad\"\n",
    "print(user1)\n"
   ]
  },
  {
   "cell_type": "code",
   "execution_count": 86,
   "metadata": {},
   "outputs": [
    {
     "name": "stdout",
     "output_type": "stream",
     "text": [
      "dict_values(['Python', 29, 'gmail.com'])\n",
      "dict_values(['Python', 29, 'gmail.com'])\n",
      "dict_items([('Name', 'Python'), ('Age', 29), ('Email Id', 'gmail.com')])\n"
     ]
    }
   ],
   "source": [
    "user1={'Name': 'Python','Age':29, 'Email Id':'gmail.com'}\n",
    "user2=user1.copy()\n",
    "print(user1.values())\n",
    "print(user2.values())\n",
    "print(user1.items())"
   ]
  },
  {
   "cell_type": "code",
   "execution_count": 87,
   "metadata": {},
   "outputs": [
    {
     "name": "stdout",
     "output_type": "stream",
     "text": [
      "Python Programming\n"
     ]
    }
   ],
   "source": [
    "lst=[\"Python\", \"Programming\"]\n",
    "print(\"%s %s\"%(lst[0],lst[1]))"
   ]
  },
  {
   "cell_type": "code",
   "execution_count": 89,
   "metadata": {},
   "outputs": [
    {
     "name": "stdout",
     "output_type": "stream",
     "text": [
      "Contacts Sushanth is added\n",
      "Contacts Mahesh is added\n",
      "Contacts Suga7 is added\n",
      "Contact Sushanth is already added\n"
     ]
    }
   ],
   "source": [
    "contacts={}\n",
    "def addcontact(name,phone):\n",
    "    if name not in contacts:\n",
    "        contacts[name]=phone\n",
    "        print(\"Contacts %s is added\"% name)\n",
    "    else:\n",
    "        print(\"Contact %s is already added\"% name)\n",
    "    return\n",
    "\n",
    "addcontact(\"Sushanth\",7702637458)\n",
    "addcontact(\"Mahesh\",9999999999)\n",
    "addcontact(\"Suga7\",684654354354)\n",
    "addcontact(\"Sushanth\",7702637458)"
   ]
  },
  {
   "cell_type": "code",
   "execution_count": 94,
   "metadata": {},
   "outputs": [
    {
     "name": "stdout",
     "output_type": "stream",
     "text": [
      "Sushanth : 7702637458\n",
      "Suga7 : 684654354354\n"
     ]
    }
   ],
   "source": [
    "def searchcontact(name):\n",
    "    if name in contacts:\n",
    "        print(name,\":\",contacts[name])\n",
    "    else:\n",
    "        print(\"%s does not exist\"%name)\n",
    "    return\n",
    "              \n",
    "              \n",
    "searchcontact(\"Sushanth\")\n",
    "searchcontact(\"Suga7\")"
   ]
  },
  {
   "cell_type": "code",
   "execution_count": 97,
   "metadata": {},
   "outputs": [
    {
     "name": "stdout",
     "output_type": "stream",
     "text": [
      "2 contacts added succesfully\n"
     ]
    }
   ],
   "source": [
    "def importcontacts(newcontacts):\n",
    "    contacts.update(newcontacts)\n",
    "    print((len(newcontacts.keys())),\"contacts added succesfully\")\n",
    "    return\n",
    "\n",
    "newcontacts={\"dinesh\":90996897657894,'rowdy':2782789057856}\n",
    "importcontacts(newcontacts)\n"
   ]
  },
  {
   "cell_type": "code",
   "execution_count": 105,
   "metadata": {},
   "outputs": [
    {
     "name": "stdout",
     "output_type": "stream",
     "text": [
      "{'Sushanth': 7702637458, 'Mahesh': 9999999999, 'Suga7': 684654354354, 'dinesh': 90996897657894, 'rowdy': 2782789057856}\n"
     ]
    }
   ],
   "source": [
    "print(contacts)"
   ]
  },
  {
   "cell_type": "code",
   "execution_count": 109,
   "metadata": {},
   "outputs": [
    {
     "name": "stdout",
     "output_type": "stream",
     "text": [
      "Suga7  Does Not Exits In The Contact\n",
      "Babu  Does Not Exits In The Contact\n"
     ]
    }
   ],
   "source": [
    "def deletecontact(name):\n",
    "    if name in contacts:\n",
    "        del contacts[name]\n",
    "        print(name,\": is deleted from contacts\")\n",
    "    else:\n",
    "        print(name,\" Does Not Exits In The Contact\")\n",
    "    return\n",
    "\n",
    "deletecontact(\"Suga7\")\n",
    "deletecontact(\"Babu\")"
   ]
  },
  {
   "cell_type": "code",
   "execution_count": 112,
   "metadata": {},
   "outputs": [
    {
     "name": "stdout",
     "output_type": "stream",
     "text": [
      "Sushanth :update with new phone number\n",
      "Babu not exists in the contacts\n"
     ]
    }
   ],
   "source": [
    "def updatecontact(name,phone):\n",
    "    if name in contacts:\n",
    "        contacts[name]=phone\n",
    "        print(name,\":update with new phone number\")\n",
    "    else:\n",
    "        print(name,\"not exists in the contacts\")\n",
    "    return\n",
    "\n",
    "updatecontact(\"Sushanth\",7702637458)\n",
    "updatecontact(\"Babu\",346890563489)\n"
   ]
  },
  {
   "cell_type": "markdown",
   "metadata": {},
   "source": []
  },
  {
   "cell_type": "code",
   "execution_count": 119,
   "metadata": {},
   "outputs": [
    {
     "name": "stdout",
     "output_type": "stream",
     "text": [
      "Value at :1 value at :2\n",
      "Value at :3 value at :2\n"
     ]
    }
   ],
   "source": [
    "lst=[1,2,3,4]\n",
    "print(\"Value at :{0} value at :{1}\".format(lst[0],lst[1]))\n",
    "print(\"Value at :{0} value at :{1}\".format(lst[2],lst[1]))"
   ]
  },
  {
   "cell_type": "code",
   "execution_count": 121,
   "metadata": {},
   "outputs": [
    {
     "data": {
      "text/plain": [
       "123"
      ]
     },
     "execution_count": 121,
     "metadata": {},
     "output_type": "execute_result"
    }
   ],
   "source": [
    "from math import floor as f1\n",
    "f1(123.456)"
   ]
  },
  {
   "cell_type": "code",
   "execution_count": 122,
   "metadata": {},
   "outputs": [
    {
     "data": {
      "text/plain": [
       "120"
      ]
     },
     "execution_count": 122,
     "metadata": {},
     "output_type": "execute_result"
    }
   ],
   "source": [
    "from math import factorial as fact\n",
    "fact(5)"
   ]
  },
  {
   "cell_type": "code",
   "execution_count": 123,
   "metadata": {},
   "outputs": [
    {
     "data": {
      "text/plain": [
       "120"
      ]
     },
     "execution_count": 123,
     "metadata": {},
     "output_type": "execute_result"
    }
   ],
   "source": [
    "import math\n",
    "math.factorial(5)"
   ]
  },
  {
   "cell_type": "code",
   "execution_count": 126,
   "metadata": {},
   "outputs": [
    {
     "name": "stdout",
     "output_type": "stream",
     "text": [
      "31 58 60 60 61 58 103 83 67 119 "
     ]
    }
   ],
   "source": [
    "import random\n",
    "def generaterandomnumbers(n,lb,ub):\n",
    "    for i in range(0,n):\n",
    "        print(random.randint(lb,ub),end=\" \")\n",
    "    return\n",
    "generaterandomnumbers(10,21,120)"
   ]
  },
  {
   "cell_type": "code",
   "execution_count": 130,
   "metadata": {},
   "outputs": [
    {
     "name": "stdout",
     "output_type": "stream",
     "text": [
      "['john', 'Peter']\n"
     ]
    }
   ],
   "source": [
    "d={\"john\":40 , \"Peter\":45}\n",
    "print(list(d.keys()))"
   ]
  },
  {
   "cell_type": "code",
   "execution_count": 131,
   "metadata": {},
   "outputs": [
    {
     "name": "stdout",
     "output_type": "stream",
     "text": [
      "Maximum of 4,12,43.3,19 and 100 is : 100\n"
     ]
    }
   ],
   "source": [
    "print(\"Maximum of 4,12,43.3,19 and 100 is : \",end=\"\") \n",
    "print (max( 4,12,43.3,19,100 )) "
   ]
  },
  {
   "cell_type": "code",
   "execution_count": 4,
   "metadata": {},
   "outputs": [
    {
     "name": "stdout",
     "output_type": "stream",
     "text": [
      "     Name           EmailID  MobileNumber Address\n",
      "0    Anil    anil@gmail.com           999     Hyd\n",
      "1   Akhil   akhil@gmail.com           888     Hyd\n",
      "2  Dinesh  dinesh@gmail.com           777     Vmd\n",
      "3  Harsha  harsha@gmail.com           888     Vmd\n",
      "4    Ajay    ajay@gmail.com           777     Vmd\n",
      "5  Kranth    kran@gmail.com           999     Vmd\n"
     ]
    }
   ],
   "source": [
    "import pandas as pd\n",
    "dict = {\"Name\":[\"Anil\",\"Akhil\",\"Dinesh\",\"Harsha\",\"Ajay\",\"Kranth\"],\n",
    "       \"EmailID\":[\"anil@gmail.com\",\"akhil@gmail.com\",\"dinesh@gmail.com\",\"harsha@gmail.com\",\"ajay@gmail.com\",\"kran@gmail.com\"],\n",
    "        \"MobileNumber\":[999,888,777,888,777,999],\n",
    "        \"Address\":[\"Hyd\",\"Hyd\",\"Vmd\",\"Vmd\",\"Vmd\",\"Vmd\"]}\n",
    "b=pd.DataFrame(dict)\n",
    "print(b)"
   ]
  },
  {
   "cell_type": "code",
   "execution_count": null,
   "metadata": {},
   "outputs": [],
   "source": []
  },
  {
   "cell_type": "code",
   "execution_count": null,
   "metadata": {},
   "outputs": [],
   "source": []
  },
  {
   "cell_type": "code",
   "execution_count": null,
   "metadata": {},
   "outputs": [],
   "source": []
  },
  {
   "cell_type": "code",
   "execution_count": null,
   "metadata": {},
   "outputs": [],
   "source": []
  },
  {
   "cell_type": "code",
   "execution_count": null,
   "metadata": {},
   "outputs": [],
   "source": []
  },
  {
   "cell_type": "code",
   "execution_count": null,
   "metadata": {},
   "outputs": [],
   "source": []
  },
  {
   "cell_type": "code",
   "execution_count": null,
   "metadata": {},
   "outputs": [],
   "source": []
  },
  {
   "cell_type": "code",
   "execution_count": null,
   "metadata": {},
   "outputs": [],
   "source": []
  },
  {
   "cell_type": "code",
   "execution_count": null,
   "metadata": {},
   "outputs": [],
   "source": []
  },
  {
   "cell_type": "code",
   "execution_count": null,
   "metadata": {},
   "outputs": [],
   "source": []
  },
  {
   "cell_type": "code",
   "execution_count": null,
   "metadata": {},
   "outputs": [],
   "source": []
  },
  {
   "cell_type": "code",
   "execution_count": null,
   "metadata": {},
   "outputs": [],
   "source": []
  }
 ],
 "metadata": {
  "kernelspec": {
   "display_name": "Python 3",
   "language": "python",
   "name": "python3"
  },
  "language_info": {
   "codemirror_mode": {
    "name": "ipython",
    "version": 3
   },
   "file_extension": ".py",
   "mimetype": "text/x-python",
   "name": "python",
   "nbconvert_exporter": "python",
   "pygments_lexer": "ipython3",
   "version": "3.7.3"
  }
 },
 "nbformat": 4,
 "nbformat_minor": 2
}
